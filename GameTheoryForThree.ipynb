{
  "cells": [
    {
      "cell_type": "code",
      "execution_count": null,
      "metadata": {
        "id": "lMLiU0jbdjff"
      },
      "outputs": [],
      "source": [
        "# !pip install pygambit"
      ]
    },
    {
      "cell_type": "code",
      "execution_count": null,
      "metadata": {
        "id": "VrMeZAGMdhrn"
      },
      "outputs": [],
      "source": [
        "import numpy as np\n",
        "from itertools import permutations\n",
        "from itertools import combinations\n",
        "#import pygambit\n",
        "#if use pygambit to check, the upper line should be de-annoted"
      ]
    },
    {
      "cell_type": "code",
      "execution_count": null,
      "metadata": {
        "id": "QD_hYIL0e1KJ"
      },
      "outputs": [],
      "source": [
        "# the codes that reduce the number of permutations with constraints, restriction1 is corrolated to constraint1, restriction2,3 are correlated to constraint2\n",
        "# restriction4,5 are correlated to constrainted 3\n",
        "def verifyRestrictions(permutation):\n",
        "    #\n",
        "    restriction1 = permutation[0] > permutation[7] # a1 > a8\n",
        "    restriction2 = permutation[0] > permutation[1] and permutation[0] > permutation[2] and permutation[0] > permutation[3]  # when player1 choose A, a1>a2 a1>a3  a1>a4\n",
        "    restriction3 = permutation[4] > permutation[7] and permutation[5] > permutation[7] and permutation[6] > permutation[7]  # when player choose B, relationship among outcomes  a5>a8 a6>a8 a7>a8\n",
        "    #if the negative effect is accumulated, eg ABB is worse than AAB\n",
        "    restriction4 = permutation[2] > permutation[3] and permutation[1] > permutation[3]\n",
        "    restriction5 = permutation[4] > permutation[5] and permutation[4] > permutation[6]\n",
        "    if restriction1 and restriction2 and restriction3 and restriction4 and restriction5:\n",
        "    # if restriction1 and restriction2 and restriction3 and restriction4:\n",
        "            # and restriction2 and restriction3 and restriction4 and restriction5:\n",
        "        return True\n",
        "    return False"
      ]
    },
    {
      "cell_type": "code",
      "execution_count": null,
      "metadata": {
        "id": "WBoYF989e-LU"
      },
      "outputs": [],
      "source": [
        "#calculate all permuations\n",
        "all_permutations = list(permutations(range(1, 9)))\n",
        "PERM = list()\n",
        "for per in all_permutations:\n",
        "    if verifyRestrictions(per):\n",
        "        PERM.append(per)\n",
        "\n",
        "combinations_3 = list(combinations(PERM, 3))\n"
      ]
    },
    {
      "cell_type": "code",
      "execution_count": null,
      "metadata": {
        "colab": {
          "base_uri": "https://localhost:8080/"
        },
        "id": "a1zWk_g7mfJ0",
        "outputId": "0cb190b0-bfba-4851-9bb1-05704c12174f"
      },
      "outputs": [
        {
          "output_type": "stream",
          "name": "stdout",
          "text": [
            "number of combinations: 3466100\n",
            "number of permutations: 276\n"
          ]
        }
      ],
      "source": [
        "print(\"number of combinations:\", len(combinations_3))\n",
        "print(\"number of permutations:\", len(PERM))"
      ]
    },
    {
      "cell_type": "code",
      "execution_count": null,
      "metadata": {
        "id": "WljZMx3Xe4Ep"
      },
      "outputs": [],
      "source": [
        "#using gambit tools to generate a game with payoff matrixes\n",
        "# def generateMatrix(combinations):\n",
        "#     game = pygambit.Game.new_table([2, 2, 2])\n",
        "#     strategyList = [game[0, 0, 0], game[0, 1, 0], game[0, 0, 1], game[0, 1, 1], game[1, 0, 0], game[1, 1, 0], game[1, 0, 1], game[1, 1, 1]]\n",
        "#     perCount = 0\n",
        "#     for strategy in strategyList:\n",
        "#         for i in range(0,3):\n",
        "#             strategy[i] = combinations[i][perCount]\n",
        "#         # strategy[0] = combinations[0][perCount]\n",
        "#         # strategy[1] = per2[perCount]\n",
        "#         # strategy[2] = per3[perCount]\n",
        "#         perCount += 1\n",
        "#     return game"
      ]
    },
    {
      "cell_type": "code",
      "execution_count": null,
      "metadata": {
        "id": "MXD7OIBMfEh5"
      },
      "outputs": [],
      "source": [
        "# equ_result = {}\n",
        "# count = 0\n",
        "# for combination in combinations_3:\n",
        "#     game = generateMatrix(combination)\n",
        "#     count += 1\n",
        "#     game.title = \"game\" + str(count)\n",
        "#     equilibria = pygambit.nash.enumpure_solve(game)\n",
        "#     equ_result[game.title] = equilibria\n",
        "#     if count % 10000 == 0:\n",
        "#       print(count,equilibria[0])\n",
        "\n",
        "# # print(\"fianl resuilt\", equ_result)"
      ]
    },
    {
      "cell_type": "code",
      "execution_count": null,
      "metadata": {
        "colab": {
          "base_uri": "https://localhost:8080/"
        },
        "id": "VeuPC0ovvO1S",
        "outputId": "04b96254-d64f-4145-c7da-568f43865a8d"
      },
      "outputs": [
        {
          "name": "stdout",
          "output_type": "stream",
          "text": [
            "3466100\n"
          ]
        }
      ],
      "source": [
        "# print(len(equ_result))"
      ]
    },
    {
      "cell_type": "code",
      "execution_count": null,
      "metadata": {
        "colab": {
          "base_uri": "https://localhost:8080/"
        },
        "id": "R9mj8JDHvepp",
        "outputId": "c876cc05-26b4-4f84-9472-1731b8eded47"
      },
      "outputs": [
        {
          "name": "stdout",
          "output_type": "stream",
          "text": [
            "[[[Rational(0, 1), Rational(1, 1)], [Rational(1, 1), Rational(0, 1)], [Rational(1, 1), Rational(0, 1)]]]\n"
          ]
        }
      ],
      "source": [
        "# print(equ_result[\"game1000000\"])"
      ]
    },
    {
      "cell_type": "code",
      "execution_count": null,
      "metadata": {
        "colab": {
          "base_uri": "https://localhost:8080/"
        },
        "id": "MGtSXtrdv_PW",
        "outputId": "bf75d69d-9346-4588-b927-6c3047f042bf"
      },
      "outputs": [
        {
          "name": "stdout",
          "output_type": "stream",
          "text": [
            "((6, 3, 5, 1, 8, 7, 4, 2), (7, 5, 3, 2, 8, 6, 4, 1), (8, 5, 6, 4, 7, 2, 3, 1))\n"
          ]
        }
      ],
      "source": [
        "# print(combinations_3[999999])"
      ]
    },
    {
      "cell_type": "code",
      "execution_count": null,
      "metadata": {
        "colab": {
          "base_uri": "https://localhost:8080/"
        },
        "id": "NuyMiBa3azTz",
        "outputId": "98c56be3-1944-4e96-c6d9-e40d027ffd60"
      },
      "outputs": [
        {
          "name": "stdout",
          "output_type": "stream",
          "text": [
            "0\n",
            "1\n",
            "1\n"
          ]
        }
      ],
      "source": [
        "# print(equ_result[\"game1000000\"][0][0])\n",
        "# print(equ_result[\"game1000000\"][0][1])\n",
        "# print(equ_result[\"game1000000\"][0][2])"
      ]
    },
    {
      "cell_type": "code",
      "execution_count": null,
      "metadata": {
        "colab": {
          "base_uri": "https://localhost:8080/"
        },
        "id": "nLjNt6Gzjab-",
        "outputId": "dc157811-3ec2-411e-a5fd-99a1935b75c2"
      },
      "outputs": [
        {
          "name": "stdout",
          "output_type": "stream",
          "text": [
            "1\n"
          ]
        }
      ],
      "source": [
        "# print(len(equ_result[\"game1000000\"]))"
      ]
    },
    {
      "cell_type": "code",
      "execution_count": null,
      "metadata": {
        "id": "HDcs9eiBcT7N"
      },
      "outputs": [],
      "source": [
        "# reuslts = {\"AAA\":0, \"ABA\":0, \"AAB\":0, \"ABB\":0, \"AAB\":0, \"BBA\":0, \"BAB\":0, \"BBB\":0}\n",
        "# for item in equ_result.values():\n",
        "#   for equ in item:\n",
        "#     if equ[0] == 0 and equ[1] == 0 and equ[2] == 0:\n",
        "#       reuslts[\"AAA\"] += 1\n",
        "#     elif equ[0] == 0 and equ[1] == 1 and equ[2] == 0:\n",
        "#       reuslts[\"ABA\"] += 1\n",
        "#     elif equ[0] == 0 and equ[1] == 0 and equ[2] == 1:\n",
        "#       reuslts[\"AAB\"] += 1\n",
        "#     elif equ[0] == 0 and equ[1] == 1 and equ[2] == 1:\n",
        "#       reuslts[\"ABB\"] += 1\n",
        "#     elif equ[0] == 1 and equ[1] == 0 and equ[2] == 0:\n",
        "#       reuslts[\"BAA\"] += 1\n",
        "#     elif equ[0] == 1 and equ[1] == 1 and equ[2] == 0:\n",
        "#       reuslts[\"BBA\"] += 1\n",
        "#     elif equ[0] == 1 and equ[1] == 0 and equ[2] == 1:\n",
        "#       reuslts[\"BAB\"] += 1\n",
        "#     elif equ[0] == 1 and equ[1] == 1 and equ[2] == 1:\n",
        "#       reuslts[\"BBB\"] += 1\n"
      ]
    },
    {
      "cell_type": "code",
      "execution_count": null,
      "metadata": {
        "colab": {
          "base_uri": "https://localhost:8080/"
        },
        "id": "tQJyEVjfnMgh",
        "outputId": "26f89e5e-d938-4bef-dff6-71d565cd4b13"
      },
      "outputs": [
        {
          "name": "stdout",
          "output_type": "stream",
          "text": [
            "{'AAA': 0, 'ABA': 0, 'AAB': 0, 'ABB': 3018520, 'BBA': 0, 'BAB': 447580, 'BBB': 0}\n"
          ]
        }
      ],
      "source": [
        "# print(reuslts)"
      ]
    },
    {
      "cell_type": "code",
      "execution_count": null,
      "metadata": {
        "id": "JydXRSwA6vx5"
      },
      "outputs": [],
      "source": [
        "# the method that calculate the pure nash equilibria of a game by return the indexes of outcome\n",
        "def isEquilbria(pmatrix):\n",
        "    # result = {}\n",
        "    # result = {\"AAA\": 0, \"ABA\": 0, \"AAB\": 0,\"ABB\": 0,\"BAA\": 0,\"BBA\": 0,\"BAB\": 0,\"BBB\": 0}\n",
        "    # for the return of this function, it is a list of all indexes correlated to the outcome that is a PNE\n",
        "    index_PNE = []\n",
        "    for index, item in enumerate(pmatrix):\n",
        "        if index == 0:\n",
        "            # a1 > a4, c1 > c3, b1 > b2\n",
        "            condition1 = item[0] > pmatrix[4][0]\n",
        "            condition2 = item[1] > pmatrix[1][1]\n",
        "            condition3 = item[2] > pmatrix[2][2]\n",
        "            if condition1 and condition2 and condition3:\n",
        "                # result[\"AAA\"] = item\n",
        "                # result[\"AAA\"].append(item)\n",
        "                index_PNE.append(index)\n",
        "            else:\n",
        "                continue\n",
        "        elif index == 1:\n",
        "            # a2 > a6, b2 > b1, b1 > b2\n",
        "            condition1 = item[0] > pmatrix[5][0]\n",
        "            condition2 = item[1] > pmatrix[0][1]\n",
        "            condition3 = item[2] > pmatrix[3][2]\n",
        "            if condition1 and condition2 and condition3:\n",
        "                # result[\"ABA\"] = item\n",
        "                # result[\"ABA\"].append(item)\n",
        "                index_PNE.append(index)\n",
        "            else:\n",
        "                continue\n",
        "        elif index == 2:\n",
        "            # a3 > a7, b3 > b4, c3 > c1\n",
        "            condition1 = item[0] > pmatrix[6][0]\n",
        "            condition2 = item[1] > pmatrix[3][1]\n",
        "            condition3 = item[2] > pmatrix[0][2]\n",
        "            if condition1 and condition2 and condition3:\n",
        "                # result[\"AAB\"] = item\n",
        "                # result[\"AAB\"].append(item)\n",
        "                index_PNE.append(index)\n",
        "            else:\n",
        "                continue\n",
        "        elif index == 3:\n",
        "            # a4 > a8, b4 > b3, c4 > c2\n",
        "            condition1 = item[0] > pmatrix[7][0]\n",
        "            condition2 = item[1] > pmatrix[2][1]\n",
        "            condition3 = item[2] > pmatrix[1][2]\n",
        "            if condition1 and condition2 and condition3:\n",
        "                # result[\"ABB\"] = item\n",
        "                # result[\"ABB\"].append(item)\n",
        "                index_PNE.append(index)\n",
        "            else:\n",
        "                continue\n",
        "        elif index == 4:\n",
        "            # a5 > a1, b5 > b6, c5 > c7\n",
        "            condition1 = item[0] > pmatrix[0][0]\n",
        "            condition2 = item[1] > pmatrix[5][1]\n",
        "            condition3 = item[2] > pmatrix[6][2]\n",
        "            if condition1 and condition2 and condition3:\n",
        "                # result[\"BAA\"] = item\n",
        "                # result[\"BAA\"].append(item)\n",
        "                index_PNE.append(index)\n",
        "            else:\n",
        "                continue\n",
        "        elif index == 5:\n",
        "            # a6 > a2, b6 > b5, c6 > c8\n",
        "            condition1 = item[0] > pmatrix[1][0]\n",
        "            condition2 = item[1] > pmatrix[4][1]\n",
        "            condition3 = item[2] > pmatrix[7][2]\n",
        "            if condition1 and condition2 and condition3:\n",
        "                # result[\"BBA\"] = item\n",
        "                # result[\"BBA\"].append(item)\n",
        "                index_PNE.append(index)\n",
        "            else:\n",
        "                continue\n",
        "        elif index == 6:\n",
        "            # a7 > a3, b7 > b8, c7 > c5\n",
        "            condition1 = item[0] > pmatrix[2][0]\n",
        "            condition2 = item[1] > pmatrix[7][1]\n",
        "            condition3 = item[2] > pmatrix[4][2]\n",
        "            if condition1 and condition2 and condition3:\n",
        "                # result[\"BAB\"] = item\n",
        "                # result[\"BAB\"].append(item)\n",
        "                index_PNE.append(index)\n",
        "            else:\n",
        "                continue\n",
        "        elif index == 7:\n",
        "            # a8 > a4, b8 > b7, c8 > c6\n",
        "            condition1 = item[0] > pmatrix[3][0]\n",
        "            condition2 = item[1] > pmatrix[6][1]\n",
        "            condition3 = item[2] > pmatrix[5][2]\n",
        "            if condition1 and condition2 and condition3:\n",
        "                # result[\"BBB\"] = item\n",
        "                # result[\"BBB\"].append(item)\n",
        "                index_PNE.append(index)\n",
        "            else:\n",
        "                continue\n",
        "        else:\n",
        "            return False\n",
        "    return index_PNE"
      ]
    },
    {
      "cell_type": "code",
      "source": [
        "# is realted to the free_riderPD in the project\n",
        "def isPrison(pmatrix):\n",
        "  # pmatrix = [[AAA0],[ABA1],[AAB2],[ABB3],[BAA4],[BBA5],[BAB6],[BBB7]]\n",
        "  con1 = pmatrix[4][0] > pmatrix[0][0]\n",
        "  con2 = pmatrix[7][0] > pmatrix[3][0]\n",
        "  con3 = pmatrix[6][0] > pmatrix[2][0]\n",
        "  con4 = pmatrix[4][0] > pmatrix[6][0] and  pmatrix[6][0] > pmatrix[7][0]\n",
        "  con5 = pmatrix[0][0] > pmatrix[2][0] and  pmatrix[2][0] > pmatrix[3][0]\n",
        "  if con1 and con2 and con3 and con4 and con5:\n",
        "    return True\n",
        "  else:\n",
        "    False"
      ],
      "metadata": {
        "id": "irAbeRv3AQQn"
      },
      "execution_count": null,
      "outputs": []
    },
    {
      "cell_type": "code",
      "source": [
        "prison_index = []\n",
        "for index, comb in enumerate(combinations_3):\n",
        "  pmatrix = np.array([[comb[j][i] for j in range(len(comb))] for i in range(len(comb[0]))])\n",
        "  if isPrison(pmatrix):\n",
        "    prison_index.append(index)\n",
        "print(len(prison_index))"
      ],
      "metadata": {
        "colab": {
          "base_uri": "https://localhost:8080/"
        },
        "id": "41QJ5zU2COng",
        "outputId": "7b09cdc2-c5f5-42a6-e134-28f270ad0a77"
      },
      "execution_count": null,
      "outputs": [
        {
          "output_type": "stream",
          "name": "stdout",
          "text": [
            "1485330\n"
          ]
        }
      ]
    },
    {
      "cell_type": "code",
      "source": [
        "count = 0\n",
        "for i in prison_index:\n",
        "  count += 1\n",
        "  if count == 9:\n",
        "    break\n",
        "  print(i)"
      ],
      "metadata": {
        "colab": {
          "base_uri": "https://localhost:8080/"
        },
        "id": "ehD2-QdPCzVS",
        "outputId": "715e1d3d-bc8d-4e80-c720-9277a50a3291"
      },
      "execution_count": null,
      "outputs": [
        {
          "output_type": "stream",
          "name": "stdout",
          "text": [
            "0\n",
            "1\n",
            "2\n",
            "3\n",
            "4\n",
            "5\n",
            "6\n",
            "7\n"
          ]
        }
      ]
    },
    {
      "cell_type": "code",
      "source": [
        "print(combinations_3[7])"
      ],
      "metadata": {
        "colab": {
          "base_uri": "https://localhost:8080/"
        },
        "id": "kmu2eMjnDGRm",
        "outputId": "fc376a53-e549-4368-b51c-96934de64896"
      },
      "execution_count": null,
      "outputs": [
        {
          "output_type": "stream",
          "name": "stdout",
          "text": [
            "((5, 2, 3, 1, 8, 6, 7, 4), (5, 2, 3, 1, 8, 7, 6, 4), (5, 3, 4, 2, 8, 7, 6, 1))\n"
          ]
        }
      ]
    },
    {
      "cell_type": "code",
      "source": [
        "print(combinations_3[1485330-1])"
      ],
      "metadata": {
        "id": "k_MBI-4VEBAL",
        "outputId": "d8976d62-9a45-42da-963c-1d4ec5144d97",
        "colab": {
          "base_uri": "https://localhost:8080/"
        }
      },
      "execution_count": null,
      "outputs": [
        {
          "output_type": "stream",
          "name": "stdout",
          "text": [
            "((6, 5, 3, 1, 8, 4, 7, 2), (8, 4, 5, 1, 7, 6, 3, 2), (8, 5, 7, 4, 6, 3, 2, 1))\n"
          ]
        }
      ]
    },
    {
      "cell_type": "code",
      "source": [],
      "metadata": {
        "id": "Zxxdp2PTEBIY"
      },
      "execution_count": null,
      "outputs": []
    },
    {
      "cell_type": "code",
      "source": [],
      "metadata": {
        "id": "22BOtkhbt1vQ"
      },
      "execution_count": null,
      "outputs": []
    },
    {
      "cell_type": "code",
      "execution_count": null,
      "metadata": {
        "id": "fUzVmBt5CDZF"
      },
      "outputs": [],
      "source": [
        "# this is the most important block that calculate PNE of all permutation sets with the method defined above\n",
        "my_test = []\n",
        "acount = 0\n",
        "total_result_count = 0 # to calculate how many PNEs are there for all games\n",
        "PNE_each_outcome = {\"AAA\": 0, \"ABA\": 0, \"AAB\": 0,\"ABB\": 0,\"BAA\": 0,\"BBA\": 0,\"BAB\": 0,\"BBB\": 0}\n",
        "\n",
        "for index, comb in enumerate(combinations_3):\n",
        "  # each comb is a game actually\n",
        "\n",
        "  # for testing, use only 2\n",
        "  # acount += 1\n",
        "  # if acount == 3:\n",
        "  #   break\n",
        "\n",
        "  # generate the game, or can be said as generate payoff matrix of a game\n",
        "  # pmatrix = []\n",
        "  # for i in range(len(comb[0])):\n",
        "  #   row = []\n",
        "  #   for j in range(len(comb)):\n",
        "  #     row.append(comb[j][i])\n",
        "  #     pmatrix.append(row)\n",
        "  #   pmatrix = np.array(pmatrix)\n",
        "\n",
        "  pmatrix = np.array([[comb[j][i] for j in range(len(comb))] for i in range(len(comb[0]))])\n",
        "\n",
        "  PNE_result = isEquilbria(pmatrix)\n",
        "\n",
        "  #we need to do statistic work\n",
        "\n",
        "  # to count how many PNEs are distributed in 8 types of outcome\n",
        "  if PNE_result:\n",
        "    for outcome_index in PNE_result:\n",
        "      if outcome_index == 0:\n",
        "        PNE_each_outcome[\"AAA\"] += 1\n",
        "      elif outcome_index == 1:\n",
        "        PNE_each_outcome[\"ABA\"] += 1\n",
        "      elif outcome_index == 2:\n",
        "        PNE_each_outcome[\"AAB\"] += 1\n",
        "      elif outcome_index == 3:\n",
        "        PNE_each_outcome[\"ABB\"] += 1\n",
        "      elif outcome_index == 4:\n",
        "        PNE_each_outcome[\"BAA\"] += 1\n",
        "      elif outcome_index == 5:\n",
        "        PNE_each_outcome[\"BBA\"] += 1\n",
        "      elif outcome_index == 6:\n",
        "        PNE_each_outcome[\"BAB\"] += 1\n",
        "      elif outcome_index == 7:\n",
        "        PNE_each_outcome[\"BBB\"] += 1\n",
        "    # print(PNE_result)\n",
        "    # print(PNE_each_outcome)\n",
        "    my_test.append({index:PNE_result})\n"
      ]
    },
    {
      "cell_type": "code",
      "execution_count": null,
      "metadata": {
        "colab": {
          "base_uri": "https://localhost:8080/"
        },
        "id": "Ic31FNTzF1UL",
        "outputId": "5172d213-29da-49f5-a006-00f3dec1ad50"
      },
      "outputs": [
        {
          "output_type": "stream",
          "name": "stdout",
          "text": [
            "3466100\n"
          ]
        }
      ],
      "source": [
        "print(len(my_test))"
      ]
    },
    {
      "cell_type": "code",
      "source": [
        "print(PNE_each_outcome)"
      ],
      "metadata": {
        "colab": {
          "base_uri": "https://localhost:8080/"
        },
        "id": "Vm83Cy6Dvjkq",
        "outputId": "69449927-e15b-4ac1-af49-e46645da43cb"
      },
      "execution_count": null,
      "outputs": [
        {
          "output_type": "stream",
          "name": "stdout",
          "text": [
            "{'AAA': 447580, 'ABA': 0, 'AAB': 0, 'ABB': 0, 'BAA': 3018520, 'BBA': 0, 'BAB': 0, 'BBB': 0}\n"
          ]
        }
      ]
    },
    {
      "cell_type": "code",
      "source": [
        "import matplotlib.pyplot as plt\n",
        "\n",
        "\n",
        "categories = ['(A,A,A)', '(A,P,A)', '(A,A,P)', '(A,P,P)', '(P,A,A)','(P,P,A)', '(P,A,P)', '(P,P,P)']\n",
        "values = [447580, 0, 0, 0, 3018520, 0, 0, 0]\n",
        "\n",
        "\n",
        "plt.bar(categories, values)\n",
        "\n",
        "\n",
        "plt.xlabel('Strategy combinations for 8 outomes')\n",
        "plt.ylabel('Count of PNE')\n",
        "plt.title('The number of occurrences of PNE among outcomes')\n",
        "\n",
        "for i, value in enumerate(values):\n",
        "    plt.text(i, value, str(value), ha='center', va='bottom')\n",
        "\n",
        "plt.grid(True, axis='y', linestyle='--', alpha=0.7)\n",
        "\n",
        "\n",
        "plt.show()\n",
        "plt.savefig('overall_result.png')"
      ],
      "metadata": {
        "colab": {
          "base_uri": "https://localhost:8080/",
          "height": 489
        },
        "id": "qHG5v7Iz6MI1",
        "outputId": "021a3c86-42f9-4077-af1e-7b94a6b85030"
      },
      "execution_count": null,
      "outputs": [
        {
          "output_type": "display_data",
          "data": {
            "text/plain": [
              "<Figure size 640x480 with 1 Axes>"
            ],
            "image/png": "[encoded data removed]"
          },
          "metadata": {}
        },
        {
          "output_type": "display_data",
          "data": {
            "text/plain": [
              "<Figure size 640x480 with 0 Axes>"
            ]
          },
          "metadata": {}
        }
      ]
    },
    {
      "cell_type": "code",
      "source": [
        "print(my_test[0])"
      ],
      "metadata": {
        "colab": {
          "base_uri": "https://localhost:8080/"
        },
        "id": "El9nglbIlsfg",
        "outputId": "6c114d7a-16ca-4c85-83c1-220c9332252a"
      },
      "execution_count": null,
      "outputs": [
        {
          "output_type": "stream",
          "name": "stdout",
          "text": [
            "{0: [4]}\n"
          ]
        }
      ]
    },
    {
      "cell_type": "code",
      "source": [
        "# game_AAA = []\n",
        "# game_PAA = []\n",
        "# my_test的结果是一个列表，列表中的每个元素是一个字典，字典的key是index，value是代表PNE在8个outcomes中的下标\n",
        "game_AAA = [key for d in my_test for key, value in d.items() if value[0] == 0]\n",
        "game_PAA = [key for d in my_test for key, value in d.items() if value[0] == 4]"
      ],
      "metadata": {
        "id": "sLQQPECtmWUB"
      },
      "execution_count": null,
      "outputs": []
    },
    {
      "cell_type": "code",
      "source": [
        "print(len(game_AAA), len(game_PAA))"
      ],
      "metadata": {
        "colab": {
          "base_uri": "https://localhost:8080/"
        },
        "id": "6R65o_rolrhd",
        "outputId": "d50e8d75-ffee-4111-8314-fe6a12f83351"
      },
      "execution_count": null,
      "outputs": [
        {
          "output_type": "stream",
          "name": "stdout",
          "text": [
            "447580 3018520\n"
          ]
        }
      ]
    },
    {
      "cell_type": "code",
      "source": [
        "outcomes_AAA = []\n",
        "countAAA = 0\n",
        "for index in game_AAA:\n",
        "  # countAAA += 1\n",
        "  # if countAAA == 5:\n",
        "  #   break\n",
        "  game = combinations_3[index]\n",
        "  tup = (game[0][0], game[1][0], game[2][0])\n",
        "  if tup == (8,8,8):\n",
        "    continue\n",
        "  else:\n",
        "    outcomes_AAA.append((game[0][0], game[1][0], game[2][0]))\n",
        "print(outcomes_AAA)"
      ],
      "metadata": {
        "colab": {
          "base_uri": "https://localhost:8080/"
        },
        "id": "tF4LvOFKlrpT",
        "outputId": "db5e2c4f-07f4-4978-c18b-f043b16c0f74"
      },
      "execution_count": null,
      "outputs": [
        {
          "output_type": "stream",
          "name": "stdout",
          "text": [
            "[]\n"
          ]
        }
      ]
    },
    {
      "cell_type": "code",
      "source": [
        "# count = 0\n",
        "# for i in game_AAA:\n",
        "#   count += 1\n",
        "#   if count == 5:\n",
        "#     break\n",
        "#   print(i)"
      ],
      "metadata": {
        "colab": {
          "base_uri": "https://localhost:8080/"
        },
        "id": "UK3X4CE5lr0U",
        "outputId": "0206f71f-b446-4cc7-87f0-185361f2a131"
      },
      "execution_count": null,
      "outputs": [
        {
          "output_type": "stream",
          "name": "stdout",
          "text": [
            "3018520\n",
            "3018521\n",
            "3018522\n",
            "3018523\n"
          ]
        }
      ]
    },
    {
      "cell_type": "code",
      "source": [],
      "metadata": {
        "id": "ytTAfzI0C6-D"
      },
      "execution_count": null,
      "outputs": []
    },
    {
      "cell_type": "code",
      "source": [
        "print(combinations_3[3018520])"
      ],
      "metadata": {
        "colab": {
          "base_uri": "https://localhost:8080/"
        },
        "id": "NGhfKmkocrOR",
        "outputId": "c30f22cc-5d85-4019-ad4f-39d961606900"
      },
      "execution_count": null,
      "outputs": [
        {
          "output_type": "stream",
          "name": "stdout",
          "text": [
            "((8, 2, 3, 1, 7, 5, 6, 4), (8, 2, 3, 1, 7, 6, 5, 4), (8, 2, 4, 1, 7, 5, 6, 3))\n"
          ]
        }
      ]
    },
    {
      "cell_type": "code",
      "source": [],
      "metadata": {
        "id": "DwocbCzgcnTg"
      },
      "execution_count": null,
      "outputs": []
    },
    {
      "cell_type": "code",
      "source": [],
      "metadata": {
        "id": "85ogliumlr7n"
      },
      "execution_count": null,
      "outputs": []
    },
    {
      "cell_type": "code",
      "source": [],
      "metadata": {
        "id": "S5I4X9Q4lsCK"
      },
      "execution_count": null,
      "outputs": []
    },
    {
      "cell_type": "code",
      "source": [],
      "metadata": {
        "id": "yiXMNy5IlsId"
      },
      "execution_count": null,
      "outputs": []
    },
    {
      "cell_type": "code",
      "execution_count": null,
      "metadata": {
        "colab": {
          "base_uri": "https://localhost:8080/"
        },
        "id": "lkm9UQ3F9BYQ",
        "outputId": "eef088a7-d5e1-404a-b16d-bdfc09b6e81e"
      },
      "outputs": [
        {
          "output_type": "stream",
          "name": "stdout",
          "text": [
            "((5, 2, 3, 1, 8, 6, 7, 4), (5, 2, 3, 1, 8, 7, 6, 4), (5, 2, 4, 1, 8, 6, 7, 3))\n"
          ]
        }
      ],
      "source": [
        "# print(combinations_3[0])"
      ]
    },
    {
      "cell_type": "code",
      "execution_count": null,
      "metadata": {
        "id": "N1rPAmms_u_l"
      },
      "outputs": [],
      "source": [
        "# a = [[combinations_3[0][j][i] for j in range(len(combinations_3[0]))] for i in range(len(combinations_3[0][0]))]"
      ]
    }
  ],
  "metadata": {
    "colab": {
      "machine_shape": "hm",
      "provenance": []
    },
    "kernelspec": {
      "display_name": "Python 3",
      "name": "python3"
    },
    "language_info": {
      "name": "python"
    }
  },
  "nbformat": 4,
  "nbformat_minor": 0
}